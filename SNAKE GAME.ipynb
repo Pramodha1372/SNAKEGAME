{
 "cells": [
  {
   "cell_type": "markdown",
   "id": "d2ad9efe",
   "metadata": {},
   "source": [
    "# SNAKE GAME\n",
    "![snakegame](Downloads/snakegame.jpg)  "
   ]
  },
  {
   "cell_type": "markdown",
   "id": "a4a0e3d7",
   "metadata": {},
   "source": [
    "# GOALS\n",
    "1. To practice python concepts.\n",
    "2. To learn turtle, random and time modules in python.\n",
    "3. To build a childhood dream game using simple code in hours."
   ]
  },
  {
   "cell_type": "markdown",
   "id": "da5a332d",
   "metadata": {},
   "source": [
    "Firstly, we need to **import packages**\n",
    "\n",
    "## TURTLE\n",
    ">Turtle is a pre-installed Python library that enables users to create pictures and shapes by providing them with a virtual canvas. The onscreen pen that you use for drawing is called the turtle and this is what gives the library its name.\n",
    "\n",
    "+ Turtle package is used to create a screen and border to the screen.\n",
    "+ It also help you to design a snake (in square shape) and food (in circle shape). \n",
    "+ The screen background, screen border, snake and food will be designed using this turtle package."
   ]
  },
  {
   "cell_type": "code",
   "execution_count": null,
   "id": "e5fad5f7",
   "metadata": {},
   "outputs": [],
   "source": [
    "import turtle"
   ]
  },
  {
   "cell_type": "markdown",
   "id": "0dadc9c1",
   "metadata": {},
   "source": [
    "## RANDOM\n",
    ">Python Random module is an in-built module of Python that is used to generate random numbers in Python. These are pseudo-random numbers means they are not truly random. This module can be used to perform random actions such as generating random numbers, printing random a value for a list or string, etc.\n",
    "+ Random package is used to generate food i.e., some random number will be generated in the volume of the screen so that, we direct our snake to move towards the food and catch it.\n",
    "+ This movement depends up on the keyboard keys and directions.\n",
    "+ This random package is mostly used to generate a random food in between the circle by using the screen x-axis and y-axis."
   ]
  },
  {
   "cell_type": "code",
   "execution_count": null,
   "id": "c3e333f6",
   "metadata": {},
   "outputs": [],
   "source": [
    "import random"
   ]
  },
  {
   "cell_type": "markdown",
   "id": "d1cf8e52",
   "metadata": {},
   "source": [
    "## TIME\n",
    "> In Python, the time() function returns the number of seconds passed since epoch (the point where time begins). For the Unix system, January 1, 1970, 00:00:00 at UTC is epoch. In the above example, we have used the time.time() function to get the current time in seconds since the epoch, and then printed the result.\n",
    "+ Time package is used to generate the speed of the movement of the square i.e., snake.\n",
    "+ Time package will help you to move the snake in speed we directed."
   ]
  },
  {
   "cell_type": "code",
   "execution_count": null,
   "id": "b8a3c6b6",
   "metadata": {},
   "outputs": [],
   "source": [
    "import time"
   ]
  },
  {
   "cell_type": "markdown",
   "id": "0a2026d0",
   "metadata": {},
   "source": [
    "### SCREEN \n",
    ">The TurtleScreen class defines graphics windows as a playground for the drawing turtles. Its constructor needs a tkinter. Canvas or a ScrolledCanvas as argument. It should be used when turtle is used as part of some application. The function Screen() returns a singleton object of a TurtleScreen subclass.\n",
    "\n",
    "### TITLE\n",
    ">This function is used to set the title of turtle-window. It requires only one argument as “titlestring” a string, to appear in the titlebar of the turtle graphics window. In other words, it is a string to display the title of the turtle window.\n",
    "\n",
    "### SETUP\n",
    ">This method is used to set the size and position of the main window. Parameters: This method has following parameters: width: as integer a size in pixels, as float a fraction of the screen.\n",
    "\n",
    "### TRACER\n",
    ">This function turns automatic screen updates on or off -- on by default -- and also sets the update() delay. In Python 2, the first argument to tracer() is boolean, True to have automatic screen updates on, False to turn them off.\n",
    "\n",
    "### BGCOLOR\n",
    ">This method is used to set or return background color of the Turtle Screen."
   ]
  },
  {
   "cell_type": "markdown",
   "id": "2c08c311",
   "metadata": {},
   "source": [
    "1. First and foremost, we need to design a screen using 'Screen' attribute.\n",
    "2. Identify the Screen as **screen** in the whole coding part.\n",
    "3. We are defining a title to the screen mode i.e., **SNAKE GAME**\n",
    "4. We need to define the dimensions of the screen. i.e., width = 700 , height = 700 \n",
    "5. Tracer is set to zero\n",
    "6. We are setting the background color according to our interest. i.e., #2471A3"
   ]
  },
  {
   "cell_type": "code",
   "execution_count": null,
   "id": "55c51de8",
   "metadata": {},
   "outputs": [],
   "source": [
    "# creating screen\n",
    "screen = turtle.Screen()\n",
    "screen.title('SNAKE GAME')\n",
    "screen.setup(width = 700 , height = 700)\n",
    "screen.tracer(0)\n",
    "screen.bgcolor('#2471A3')"
   ]
  },
  {
   "cell_type": "markdown",
   "id": "857d9695",
   "metadata": {},
   "source": [
    "### SPEED\n",
    ">The turtle's speed lies in the range 0-10. If input is a number greater than 10 or smaller than 0.5, speed is set to 0. Speedstrings are mapped to speedvalues in the following way: 'fastest' : 0.\n",
    "\n",
    "### PENSIZE\n",
    ">This method is used to set or return the line thickness. Set the line thickness to width or return it. If resizemode is set to “auto” and turtleshape is a polygon, that polygon is drawn with the same line thickness. If no argument is given, the current pensize is returned.\n",
    "\n",
    "#### Line Thickness (Pen Size)\n",
    ">Value sets the number of pixels, and it can be any positive number. The larger the value, the thicker the lines. By default, turtles start with a pensize of 1.\n",
    "\n",
    "### PENUP\n",
    ">Penup or pu means pick pen up, so you can move turtle without leaving tracks. pendown or pd means pick pen down, so you can move the turtle and leave tracks. hideturtle or ht means hide the turtle, so you can admire your drawing.\n",
    "\n",
    "### GOTO\n",
    ">This method is used to move the turtle to an absolute position. This method has Aliases: setpos, setposition, goto. Syntax: turtle.setpos(x, y=None) or turtle.setposition(x, y=None) or turtle.goto(x, y=None).\n",
    "\n",
    "### PENDOWN\n",
    ">The pendown and penup commands tell the turtle to leave ink on the screen as it moves or not to leave ink, respectively. The hideturtle and showturtle commands hide or show the turtle, but do not affect its ability to leave ink as it moves. The home command causes the turtle to return to the center of the screen.\n",
    "\n",
    "### COLOR\n",
    ">As always in programming, the turtle knows only English color names. The following list is not complete, but here are some examples: yellow, gold, orange, red, maroon, violet, magenta, purple, navy, blue, skyblue, cyan, turquoise, lightgreen, green, darkgreen, chocolate, brown, black, gray, white.\n",
    "\n",
    "### FORWARD\n",
    ">forward(distance): Moves the turtle forward (in the direction the turtle is facing) the distance indicated (in pixels). Draws a line if the pen is down, not if the pen is up. turtle. backward(distance): Moves the turtle backward (in the direction opposite to how the turtle is facing) the distance indicated (in pixels).\n",
    "\n",
    "### RIGHT\n",
    ">To change the direction the turtle is facing, you can use either the right() or left() function. These functions only work when you pass in a number value that specifies the number of degrees to turn.\n",
    "\n",
    "### HIDETURTLE\n",
    ">hideturtle = hideturtle() Makes the turtle invisible. Aliases: hideturtle | ht No argument. It's a good idea to do this while you're in the middle of a complicated drawing, because hiding the turtle speeds up the drawing observably."
   ]
  },
  {
   "cell_type": "code",
   "execution_count": null,
   "id": "bb017ae1",
   "metadata": {},
   "outputs": [],
   "source": [
    "#creating border to the previously designed screen\n",
    "turtle.speed(5)\n",
    "turtle.pensize(3)\n",
    "turtle.penup()\n",
    "turtle.goto(-310,250)\n",
    "turtle.pendown()\n",
    "turtle.color('red')\n",
    "turtle.forward(600)\n",
    "turtle.right(90)\n",
    "turtle.forward(500)\n",
    "turtle.right(90)\n",
    "turtle.forward(600)\n",
    "turtle.right(90)\n",
    "turtle.forward(500)\n",
    "turtle.penup()\n",
    "turtle.hideturtle()"
   ]
  },
  {
   "cell_type": "code",
   "execution_count": null,
   "id": "f341127d",
   "metadata": {},
   "outputs": [],
   "source": [
    "#score\n",
    "score = 0\n",
    "delay = 0.1"
   ]
  },
  {
   "cell_type": "markdown",
   "id": "8cf7d123",
   "metadata": {},
   "source": [
    "### SHAPE \n",
    ">This function is used to set the turtle shape to shape with a given name or, if the name is not given, return the name of the current shape.\n",
    "\n",
    "### DIRECTION\n",
    ">right(degrees): Turns the direction that the turtle is facing right (clockwise) by the amount indicated (in degrees). turtle. left(degrees): Turns the direction that the turtle is facing left (counter clockwise) by the amount indicated (in degrees)."
   ]
  },
  {
   "cell_type": "markdown",
   "id": "1f50cfc4",
   "metadata": {},
   "source": [
    "+ **snake** identifier is created using turtle package, so that now we will define the snake shape, color, size, speed and movement. "
   ]
  },
  {
   "cell_type": "code",
   "execution_count": null,
   "id": "3eda489b",
   "metadata": {},
   "outputs": [],
   "source": [
    "#snake\n",
    "snake = turtle.Turtle()\n",
    "snake.speed()\n",
    "snake.shape('square')\n",
    "snake.color('black')\n",
    "snake.penup()\n",
    "snake.goto(0,0)\n",
    "snake.direction = 'stop'"
   ]
  },
  {
   "cell_type": "markdown",
   "id": "b89d93d4",
   "metadata": {},
   "source": [
    "+ **food** identifier is created by using turtle package.\n",
    "+ This **food** identifier has some shape and color and it will be generated in random dimensions using random libraries and attributes in some 'xy' values in between the range mentioned."
   ]
  },
  {
   "cell_type": "code",
   "execution_count": null,
   "id": "fccb6683",
   "metadata": {},
   "outputs": [],
   "source": [
    "#food\n",
    "fruit = turtle.Turtle()\n",
    "fruit.speed(0)\n",
    "fruit.shape('circle')\n",
    "fruit.color('white')\n",
    "fruit.penup()\n",
    "fruit.goto(30,30)"
   ]
  },
  {
   "cell_type": "markdown",
   "id": "bf9c8437",
   "metadata": {},
   "source": [
    "+ A list **old_fruit** to store the random values so that it will be used to evaluate the score.\n",
    "+ This will store the values when only the snake eats the fruit without disturbing the rules of the game."
   ]
  },
  {
   "cell_type": "code",
   "execution_count": null,
   "id": "3c777edf",
   "metadata": {},
   "outputs": [],
   "source": [
    "old_fruit = []"
   ]
  },
  {
   "cell_type": "markdown",
   "id": "9eb84275",
   "metadata": {},
   "source": [
    "### WRITE\n",
    ">This method of a turtle module is used to display text in a turtle window. The simple and plain way to display text is to just pass a string argument inside the write method. write( \"Hello there!\" )"
   ]
  },
  {
   "cell_type": "markdown",
   "id": "72a9d6a9",
   "metadata": {},
   "source": [
    "+ **scoring** identifier is created to display score above the screen.\n",
    "+ This will continuously evalute the score by using old_list and update automatically in the screen."
   ]
  },
  {
   "cell_type": "code",
   "execution_count": null,
   "id": "81a64f28",
   "metadata": {},
   "outputs": [],
   "source": [
    "#scoring\n",
    "scoring = turtle.Turtle()\n",
    "scoring.speed(0)\n",
    "scoring.color('white')\n",
    "scoring.penup()\n",
    "scoring.hideturtle()\n",
    "scoring.goto(0,300)\n",
    "scoring.write('Score : ',align = 'center' , font = ('courier' , 24 , 'bold'))"
   ]
  },
  {
   "cell_type": "markdown",
   "id": "96e6d613",
   "metadata": {},
   "source": [
    "+ This functions will tell the movement of the snake.\n",
    "+ if the movement isn't down then it is up\n",
    "+ if the movement isn't up then it is down\n",
    "+ if the movement isn't right then it is left\n",
    "+ if the movement isn't left then it is right"
   ]
  },
  {
   "cell_type": "code",
   "execution_count": null,
   "id": "e2d10a82",
   "metadata": {},
   "outputs": [],
   "source": [
    "#define snake how to move in the screen\n",
    "def snake_up():\n",
    "    if snake.direction != 'down':\n",
    "        snake.direction = 'up'\n",
    "        \n",
    "def snake_down():\n",
    "    if snake.direction != 'up':\n",
    "        snake.direction = 'down'\n",
    "    \n",
    "def snake_right():\n",
    "    if snake.direction != 'left':\n",
    "        snake.direction = 'right'\n",
    "    \n",
    "def snake_left():\n",
    "    if snake.direction != 'right':\n",
    "        snake.direction = 'left'"
   ]
  },
  {
   "cell_type": "markdown",
   "id": "fae7a9bf",
   "metadata": {},
   "source": [
    "### XCOR\n",
    ">This function is used to return the turtle's x coordinate of the current position of turtle.\n",
    "\n",
    "### YCOR\n",
    ">This function is used to return the turtle's y coordinate of the current position of turtle.\n",
    "\n",
    "### SETX\n",
    ">This method is used to set the turtle's first coordinate to x, leave the second coordinate unchanged. Here, whatever the position of the turtle is, it set the x coordinate to given input keeping y coordinate unchanged.\n",
    "\n",
    "### SETY\n",
    ">This method is used to set the turtle's second coordinate to y, leaving the first coordinate unchanged. Here, whatever the position of the turtle is, it set the y coordinate to given input keeping the x coordinate unchanged."
   ]
  },
  {
   "cell_type": "markdown",
   "id": "bbf93a50",
   "metadata": {},
   "source": [
    "+ This function will define the movement of the snake.\n",
    "+ if the snake is moving towards up then it is deviated by adding 20 cordinates to y.\n",
    "+ if the snake is moving towards down then it is deviated by subtracting 20 cordinates to y.\n",
    "+ if the snake is moving towards left then it is deviated by subtracting 20 cordinates to x.\n",
    "+ if the snake is moving towards right then it is deviated by adding 20 cordinates to x."
   ]
  },
  {
   "cell_type": "code",
   "execution_count": null,
   "id": "ca2151b3",
   "metadata": {},
   "outputs": [],
   "source": [
    "def snake_move():\n",
    "    if snake.direction == \"up\":\n",
    "        y = snake.ycor()\n",
    "        snake.sety(y + 20)\n",
    "\n",
    "    if snake.direction == \"down\":\n",
    "        y = snake.ycor()\n",
    "        snake.sety(y - 20)\n",
    "\n",
    "    if snake.direction == \"left\":\n",
    "        x = snake.xcor()\n",
    "        snake.setx(x - 20)\n",
    "\n",
    "    if snake.direction == \"right\":\n",
    "        x = snake.xcor()\n",
    "        snake.setx(x + 20)"
   ]
  },
  {
   "cell_type": "markdown",
   "id": "96bddb07",
   "metadata": {},
   "source": [
    "### LISTEN\n",
    ">The turtle module allows us to detect when the user has hit certain keys on the keyboard or moved/clicked the mouse. Whenever the user performs an action as such it is called an event. We can listen for events and trigger functions to run if we \"hear\" the event.\n",
    "\n",
    "### ONKEYPRESS\n",
    ">Python's turtle module is a brilliant tool to use for teaching coding. One of the main functions used when creating interactive animations or games is onkeypress() which enables the binding of a keypress with a function."
   ]
  },
  {
   "cell_type": "markdown",
   "id": "1c941611",
   "metadata": {},
   "source": [
    "+ We are setting our keyboard to move according to defined function by using up, down, left and right buttons. This will move the snake and eat fruit by using our directions."
   ]
  },
  {
   "cell_type": "code",
   "execution_count": null,
   "id": "7b226aaa",
   "metadata": {},
   "outputs": [],
   "source": [
    "#keyboard binding according to the movement of the screen\n",
    "screen.listen()\n",
    "screen.onkeypress(snake_up, \"Up\")\n",
    "screen.onkeypress(snake_down, \"Down\")\n",
    "screen.onkeypress(snake_left, \"Left\")\n",
    "screen.onkeypress(snake_right, \"Right\")"
   ]
  },
  {
   "cell_type": "markdown",
   "id": "2fc0e4fc",
   "metadata": {},
   "source": [
    "### UPDATE\n",
    ">ScreenUpdating is a property in VBA that you can use to turn “ON” and “OFF” the screen updating while running the code. You can turn it off before running a code that makes your code run faster and then turn it on once the execution of the code completes. You can read and write this property.\n",
    "\n",
    "### CLEAR\n",
    ">This function is used to delete the turtle's drawings from the screen.\n",
    "\n",
    "### APPEND\n",
    ">Python provides a method called . append() that you can use to add items to the end of a given list."
   ]
  },
  {
   "cell_type": "markdown",
   "id": "08ef94a2",
   "metadata": {},
   "source": [
    "### RANDINT\n",
    ">This function is used to generate the random integers between the two given numbers passed as parameters. Randint is an in-built function of random library in python. So we have to import the random library at the start of our code to generate random numbers."
   ]
  },
  {
   "cell_type": "markdown",
   "id": "e3165062",
   "metadata": {},
   "source": [
    "## TIME\n",
    ">The Python time module provides many ways of representing time in code, such as objects, numbers, and strings. It also provides functionality other than representing time, like waiting during code execution and measuring the efficiency of your code.\n",
    "\n",
    "### SLEEP\n",
    ">Python time sleep function is used to add delay in the execution of a program. We can use python sleep function to halt the execution of the program for given time in seconds. Notice that python time sleep function actually stops the execution of current thread only, not the whole program."
   ]
  },
  {
   "cell_type": "markdown",
   "id": "e1f2af64",
   "metadata": {},
   "source": [
    "### TERMINATOR\n",
    ">Turtle Terminator is a name utilized for different characters, either as someone who \"terminates\" turtles or someone who is a turtle that \"terminates\"."
   ]
  },
  {
   "cell_type": "markdown",
   "id": "56cf1927",
   "metadata": {},
   "source": [
    "+ Firstly, we create a while loop so that it terminates in few conditions :\n",
    "1. When snake hits the border\n",
    "2. When snake bites itself\n",
    "+ Mainly we focus on this 2 conditions.\n",
    "+ We use random module in python by generating random inputs to the new fruit position's.\n",
    "+ Whenever, snake touches the old fruit, the old fruit random integer will be appended to the old_fruit list and new_fruit random interger will be generated.\n",
    "+ The snake will be added by one more sqaure automatically whenever it eats a new_fruit.\n",
    "+ The length of the snake will be increased corresponding to the reach of the new_fruit.\n",
    "+ Whenever snake touches the border or bites itself the session will be closed automatically and it will display the screen as GAME OVER and it will display your score of the length of the old_fruit list.\n",
    "+ Sleep will help you to terminate any one of the above conditions to stop the game."
   ]
  },
  {
   "cell_type": "code",
   "execution_count": null,
   "id": "48c59f22",
   "metadata": {},
   "outputs": [],
   "source": [
    "while True:\n",
    "        screen.update()\n",
    "            #snake and fruit collisions\n",
    "        if snake.distance(fruit)< 20:\n",
    "                x = random.randint(-290,270)\n",
    "                y = random.randint(-240,240)\n",
    "                fruit.goto(x,y)\n",
    "                scoring.clear()\n",
    "                score+=1\n",
    "                scoring.write(\"Score:{}\".format(score),align=\"center\",font=(\"Times New Roman\",24,\"bold\"))\n",
    "                delay-=0.001\n",
    "                \n",
    "                #creating new fruit\n",
    "                new_fruit = turtle.Turtle()\n",
    "                new_fruit.speed(0)\n",
    "                new_fruit.shape('square')\n",
    "                new_fruit.color('red')\n",
    "                new_fruit.penup()\n",
    "                old_fruit.append(new_fruit)        \n",
    "\n",
    "        #adding fruit to snake   \n",
    "        for index in range(len(old_fruit)-1,0,-1):\n",
    "                a = old_fruit[index-1].xcor()\n",
    "                b = old_fruit[index-1].ycor()\n",
    "                old_fruit[index].goto(a,b)\n",
    "                                     \n",
    "        if len(old_fruit)>0:\n",
    "                a= snake.xcor()\n",
    "                b = snake.ycor()\n",
    "                old_fruit[0].goto(a,b)\n",
    "        snake_move()\n",
    "\n",
    "        #snake and border collision    \n",
    "        if snake.xcor()>280 or snake.xcor()< -300 or snake.ycor()>240 or snake.ycor()<-240:\n",
    "                time.sleep(1)\n",
    "                screen.clear()\n",
    "                screen.bgcolor('red')\n",
    "                scoring.goto(0,0)\n",
    "                scoring.write(\"GAME OVER\\nYour Score is {}\".format(score),align=\"center\",font=(\"Times New Roman\",30,\"bold\"))\n",
    "\n",
    "        #snake biting itself or self collision\n",
    "        for food in old_fruit:\n",
    "                if food.distance(snake) < 20:\n",
    "                        time.sleep(1)\n",
    "                        screen.clear()\n",
    "                        screen.bgcolor('red')\n",
    "                        scoring.goto(0,0)\n",
    "                        scoring.write(\"GAME OVER\\nYour Score is {}\".format(score),align=\"center\",font=(\"Times New Roman\",30,\"bold\"))\n",
    "                \n",
    "        time.sleep(delay)\n",
    "\n",
    "turtle.Terminator()"
   ]
  },
  {
   "cell_type": "markdown",
   "id": "1948d961",
   "metadata": {},
   "source": [
    "# CONCLUSION\n",
    "1. I had practiced and learned new modules in python.\n",
    "2. I had designed the snake game using python with simple code."
   ]
  },
  {
   "cell_type": "markdown",
   "id": "eb09e6ad",
   "metadata": {},
   "source": [
    "**THE END**"
   ]
  }
 ],
 "metadata": {
  "kernelspec": {
   "display_name": "Python 3 (ipykernel)",
   "language": "python",
   "name": "python3"
  },
  "language_info": {
   "codemirror_mode": {
    "name": "ipython",
    "version": 3
   },
   "file_extension": ".py",
   "mimetype": "text/x-python",
   "name": "python",
   "nbconvert_exporter": "python",
   "pygments_lexer": "ipython3",
   "version": "3.10.9"
  }
 },
 "nbformat": 4,
 "nbformat_minor": 5
}
